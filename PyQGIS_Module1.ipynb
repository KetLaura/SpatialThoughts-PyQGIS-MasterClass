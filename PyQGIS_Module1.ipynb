{
 "cells": [
  {
   "cell_type": "code",
   "execution_count": null,
   "metadata": {},
   "outputs": [],
   "source": []
  },
  {
   "cell_type": "markdown",
   "metadata": {},
   "source": [
    "# PyQGIS masterclass: Lecture 1\n",
    "\n",
    "Python helps to customize QGIS use a lot for example by the custom functions and actions.\n",
    "\n",
    "QGIS version numbers are either even or odd. Even number versions are release versions and odd version numbers are development versions. A new release will happen every four month which should be considered during coding.\n",
    "Every third version is a long-term-release (LTR) which is maintained until the next long term version so 4 x 3 is about a year.\n"
   ]
  },
  {
   "cell_type": "markdown",
   "metadata": {},
   "source": []
  },
  {
   "cell_type": "markdown",
   "metadata": {},
   "source": [
    "QGIS contains a Python plugin with code editor, which makes it easy to assemble coding into QGIS working. Basically every button clicks are possible to write as a code. Following is a example where a column from shapefile attribute table is deleted by using Python language."
   ]
  },
  {
   "cell_type": "code",
   "execution_count": null,
   "metadata": {},
   "outputs": [],
   "source": [
    "layer = iface.activeLayer()\n",
    "layer.startEditing()\n",
    "layer.deleteAttribute(1)\n",
    "layer.commitChanges()"
   ]
  },
  {
   "cell_type": "markdown",
   "metadata": {},
   "source": []
  }
 ],
 "metadata": {
  "language_info": {
   "name": "python"
  }
 },
 "nbformat": 4,
 "nbformat_minor": 2
}
