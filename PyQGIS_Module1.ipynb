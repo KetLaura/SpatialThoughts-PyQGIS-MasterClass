{
 "cells": [
  {
   "cell_type": "code",
   "execution_count": null,
   "metadata": {},
   "outputs": [],
   "source": []
  },
  {
   "cell_type": "markdown",
   "metadata": {},
   "source": [
    "# PyQGIS masterclass: Lecture 1\n",
    "\n",
    "Python helps to customize QGIS use a lot for example by the custom functions and actions.\n",
    "\n",
    "QGIS version numbers are either even or odd. Even number versions are release versions and odd version numbers are development versions. A new release will happen every four month which should be considered during coding.\n",
    "Every third version is a long-term-release (LTR) which is maintained until the next long term version so 4 x 3 is about a year.\n"
   ]
  },
  {
   "cell_type": "markdown",
   "metadata": {},
   "source": []
  },
  {
   "cell_type": "markdown",
   "metadata": {},
   "source": [
    "QGIS contains a Python plugin with code editor, which makes it easy to assemble coding into QGIS working. Basically every button clicks are possible to write as a code. Following is a example where a column from shapefile attribute table is deleted by using Python language."
   ]
  },
  {
   "cell_type": "code",
   "execution_count": null,
   "metadata": {},
   "outputs": [],
   "source": [
    "layer = iface.activeLayer()\n",
    "layer.startEditing()\n",
    "layer.deleteAttribute(1)\n",
    "layer.commitChanges()"
   ]
  },
  {
   "cell_type": "markdown",
   "metadata": {},
   "source": [
    "#Classes and objects\n",
    "\n",
    "What is a Class?\n",
    "\n",
    "A class can be thought of as a template, which contains certain functions and properties. It cannot be used on its own. It can be thought as a blueprint, were you can see the object but it must be made first.\n",
    "\n",
    "Objects\n",
    "\n",
    "To use a class in a program, you must construct an object from a class.\n",
    "\n",
    "To find out which variable is a class and which one is an object, a good way is to use [print] function and the type gets printed to console.\n",
    "\n",
    "Instance\n",
    "\n",
    "Instance is an object of a class.\n",
    "You can create an instance of a class by calling the constructor.\n",
    "The constructor in Python is a function named _init_()/\n",
    "_init() takes at least one parameter called self\n",
    "    self refers to the current instance that is being constructed.\n",
    "\n",
    "When using the self function, an object must first be created before running the code.\n",
    "\n",
    "For example if class is Car:\n",
    "\n",
    "You can create an object my_car = Car(\"blue\", \"automatic\") using parameters attachted to a Car class\n",
    "\n",
    "Then you can use the function for example my_car.start()\n",
    "\n",
    "Functions inside of a class are called methods.\n",
    "Variables inside a class are called attributes.\n",
    "\n",
    "Instance Attributes\n",
    "\n",
    "-They are associated with a particular object\n",
    "-Every object can have a different value\n",
    "-Defined inside the _init_() constructor\n",
    "\n",
    "Class Attributes\n",
    "\n",
    "-They are associated with a class\n",
    "-Every objects will have the same value\n",
    "-Defined outside of the _init_() constructor\n",
    "-Can be accessed from a class\n",
    "\n",
    "Inheritance\n",
    "\n",
    "Classes can be derived from another class.\n",
    "The derived class \"inherits\" all fearures of the base class\n",
    "\n",
    "This helps when building bigger systems and follows hierarchy, when features are inherited, you don't need to define all the class properties again.\n",
    "\n",
    "class Car > class Sedan(Car) > class ElectricSedan(Sedan)\n",
    "\n",
    "All PYQGIS classes are derived from the Base Class called QObject()\n",
    "\n",
    "Example QgsMapLayer() is the Base Class for all map layer types.\n",
    "QgsRasterLayer() is derived from QgsMapLayer()\n"
   ]
  },
  {
   "cell_type": "markdown",
   "metadata": {},
   "source": [
    "Example of creating an object from a class and calculating distance between two places."
   ]
  },
  {
   "cell_type": "code",
   "execution_count": null,
   "metadata": {},
   "outputs": [],
   "source": [
    "\n",
    "san_francisco = (37.7749, -122.4194)\n",
    "new_york = (40.661, -73.944)\n",
    "lat1, lon1 = san_francisco\n",
    "lat2, lon2 = new_york\n",
    "d = QgsDistanceArea()\n",
    "print (d)\n",
    "d.setEllipsoid('WGS84')\n",
    "point1 = QgsPointXY(lon1,lat1)\n",
    "point2 = QgsPointXY(lon2,lat2)\n",
    "distance = d.measureLine(point1, point2)\n",
    "print(distance)"
   ]
  }
 ],
 "metadata": {
  "language_info": {
   "name": "python"
  }
 },
 "nbformat": 4,
 "nbformat_minor": 2
}
